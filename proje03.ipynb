{
  "nbformat": 4,
  "nbformat_minor": 0,
  "metadata": {
    "colab": {
      "name": "Untitled4.ipynb",
      "provenance": [],
      "authorship_tag": "ABX9TyOfEm/CT4ZAiMwe0iL6kvVX",
      "include_colab_link": true
    },
    "kernelspec": {
      "name": "python3",
      "display_name": "Python 3"
    },
    "language_info": {
      "name": "python"
    }
  },
  "cells": [
    {
      "cell_type": "markdown",
      "metadata": {
        "id": "view-in-github",
        "colab_type": "text"
      },
      "source": [
        "<a href=\"https://colab.research.google.com/github/denizdogruer/hu-bby162-2022/blob/main/proje03.ipynb\" target=\"_parent\"><img src=\"https://colab.research.google.com/assets/colab-badge.svg\" alt=\"Open In Colab\"/></a>"
      ]
    },
    {
      "cell_type": "code",
      "execution_count": null,
      "metadata": {
        "colab": {
          "base_uri": "https://localhost:8080/"
        },
        "id": "r1v00zorX3bn",
        "outputId": "21e801b4-15b6-453d-e84e-51745e912a67"
      },
      "outputs": [
        {
          "output_type": "stream",
          "name": "stdout",
          "text": [
            "Hoşgeldiniz!\n",
            "Teste başlamadan önce soru eklemek istermisiniz?\n",
            "Evet ise 1'e Hayır ise 2'ye basınız Cevabınız: 2\n",
            "1+1 : 2\n",
            "Evet ise 1'e Hayır ise 2'ye basınız Cevabınız: 1\n",
            "2+2 : 4\n"
          ]
        }
      ],
      "source": [
        "sorular =  ['1+1 : 2',\"2+2 : 4\",\"3+3 : 5\",\"4+4 : 9\",\"5+5 : 10\"]\n",
        "dogrucevaplar = [1,1,2,2,1]\n",
        "cevaplar = []\n",
        "eklenensorularincevaplari = []\n",
        "\n",
        "\n",
        "print(\"Hoşgeldiniz!\")\n",
        "print(\"Teste başlamadan önce soru eklemek istermisiniz?\")\n",
        "sorueklemedegeri = input(\"Evet ise 1'e Hayır ise 2'ye basınız Cevabınız: \")\n",
        "if sorueklemedegeri == \"1\":\n",
        "    kacadeteklenecegi=int(input(\"Kaç adet soru eklemek istiyorsunuz : \"))\n",
        "    i=0\n",
        "    for i in range(i,kacadeteklenecegi):\n",
        "        soru = input(\"Eklemek istediğiniz sorunuz : \")\n",
        "        eklenensorucevabi= input(\"Eklemek istediğin sorunun cevabını Evet ise 1'e Hayır ise 2'ye basınız.\")\n",
        "        sorular.append(soru)\n",
        "        eklenensorularincevaplari.append(eklenensorucevabi)\n",
        "        i+1\n",
        "\n",
        "\n",
        "\n",
        "x=0\n",
        "for x in range(x,len(sorular)):\n",
        "    print(sorular[x])\n",
        "    cevap = input(\"Evet ise 1'e Hayır ise 2'ye basınız Cevabınız: \")\n",
        "    cevaplar.append(cevap)\n",
        "\n",
        "dc=0\n",
        "yc=0\n",
        "c=0\n",
        "for c in range(c,len(sorular)):\n",
        "    if cevaplar[c]==dogrucevaplar[c]:\n",
        "        dc+1\n",
        "    else:\n",
        "        yc+1\n",
        "print(dc)"
      ]
    }
  ]
}