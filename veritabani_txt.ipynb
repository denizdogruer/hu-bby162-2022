{
  "nbformat": 4,
  "nbformat_minor": 0,
  "metadata": {
    "colab": {
      "name": "veritabani.txt",
      "provenance": [],
      "authorship_tag": "ABX9TyNsNXOEwcm5rIxIyFZUx/Ij",
      "include_colab_link": true
    },
    "kernelspec": {
      "name": "python3",
      "display_name": "Python 3"
    },
    "language_info": {
      "name": "python"
    }
  },
  "cells": [
    {
      "cell_type": "markdown",
      "metadata": {
        "id": "view-in-github",
        "colab_type": "text"
      },
      "source": [
        "<a href=\"https://colab.research.google.com/github/denizdogruer/hu-bby162-2022/blob/main/veritabani_txt.ipynb\" target=\"_parent\"><img src=\"https://colab.research.google.com/assets/colab-badge.svg\" alt=\"Open In Colab\"/></a>"
      ]
    },
    {
      "cell_type": "code",
      "execution_count": null,
      "metadata": {
        "id": "fqDKFKO2Rw81"
      },
      "outputs": [],
      "source": [
        "Ahmet Umit - Istanbul Hatırası - Yapı Kredi Yayınları - 2010\n",
        "Ahmet Umit - Kayıp Tanrılar Ülkesi - Yapı Kredi Yayınları - 2021\n",
        "Jose Saramago - Körlük - Kırmızı Kedi - 2017\n",
        "Anton Çehov - Altıncı Koğuş - İş Bankası Kültür Yayınları - 1892\n",
        "George Orwell - Hayvan Çiftliği - Can Yayınları - 1982"
      ]
    }
  ]
}