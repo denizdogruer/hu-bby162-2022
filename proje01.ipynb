{
  "nbformat": 4,
  "nbformat_minor": 0,
  "metadata": {
    "colab": {
      "name": "proje01.ipynb",
      "provenance": [],
      "authorship_tag": "ABX9TyOWEs65fxmiFALhNK6IgfaO",
      "include_colab_link": true
    },
    "kernelspec": {
      "name": "python3",
      "display_name": "Python 3"
    },
    "language_info": {
      "name": "python"
    }
  },
  "cells": [
    {
      "cell_type": "markdown",
      "metadata": {
        "id": "view-in-github",
        "colab_type": "text"
      },
      "source": [
        "<a href=\"https://colab.research.google.com/github/denizdogruer/hu-bby162-2022/blob/main/proje01.ipynb\" target=\"_parent\"><img src=\"https://colab.research.google.com/assets/colab-badge.svg\" alt=\"Open In Colab\"/></a>"
      ]
    },
    {
      "cell_type": "code",
      "execution_count": null,
      "metadata": {
        "id": "F0i7rnKCbfX2"
      },
      "outputs": [],
      "source": [
        "liste = [\"tavşan\", \"marul\", \"leopar\", \"salam\", \"demir\", \"tahta\"]\n",
        "\n",
        "while True:\n",
        "    secim = input(\"İndeks numarasınız giriniz:  \")\n",
        "    if secim == \"q\": break\n",
        "\n",
        "    try:\n",
        "        secim = int(secim)\n",
        "        break\n",
        "    except:\n",
        "        print(\"Bir rakam girmelisiniz..!\")\n",
        "\n",
        "listeToplam = len(liste)\n",
        "if secim < listeToplam:\n",
        "    print(liste[secim])\n",
        "else:\n",
        "    print(\"İndeks dışı giriş..!\")"
      ]
    }
  ]
}